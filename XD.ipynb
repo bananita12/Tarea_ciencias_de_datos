{
 "cells": [
  {
   "cell_type": "code",
   "execution_count": null,
   "id": "ac80e992",
   "metadata": {},
   "outputs": [],
   "source": [
    "def tail(filename, n=10):\n",
    "    with open(filename, 'r') as file:\n",
    "        lines = file.readlines()\n",
    "\n",
    "    last_lines = lines[-n:]\n",
    "    return \"\".join(last_lines)\n",
    "\n",
    "\n",
    "if __name__ == \"__main__\":\n",
    "    file_name = input(\"Ingrese el nombre del archivo: \")\n",
    "    try:\n",
    "        result = tail(file_name)\n",
    "        print(result)\n",
    "    except FileNotFoundError:\n",
    "        print(\"Error: El archivo no existe.\")\n",
    "    except Exception as e:\n",
    "        print(\"Error desconocido:\", str(e))\n",
    "        "
   ]
  },
  {
   "cell_type": "code",
   "execution_count": null,
   "id": "bbdc9bc9",
   "metadata": {},
   "outputs": [],
   "source": [
    "def cesar_cipher(text, shift):\n",
    "    alphabet = \"abcdefghijklmnñopqrstuvwxyz\"\n",
    "    VDX = \"áéíóú\"\n",
    "    WDX = \"aeiou\"\n",
    "\n",
    "    def shift_char(c, shift):\n",
    "        if c.lower() in alphabet:\n",
    "            is_upper = c.isupper()\n",
    "            C_L = c.lower()\n",
    "            if C_L in VDX:\n",
    "                C_L = WDX[VDX.index(C_L)]\n",
    "            S_I = (alphabet.index(C_L) + shift) % len(alphabet)\n",
    "            S_C = alphabet[S_I]\n",
    "            return S_C.upper() if is_upper else S_C\n",
    "        return c\n",
    "\n",
    "    return \"\".join(shift_char(c, shift) for c in text)\n",
    "\n",
    "\n",
    "if __name__ == \"__main__\":\n",
    "    n_cifr = int(input(\"Ingrese el número de espacios para cifrar: \"))\n",
    "    try:\n",
    "        with open(\"Escritorio/texto.dat\", \"r\", encoding=\"utf-8\") as file:\n",
    "            text = file.read()\n",
    "            CT = cesar_cipher(text, n_cifr)\n",
    "\n",
    "        with open(\"Escritorio/texto_cifrado.dat\", \"w\", encoding=\"utf-8\") as file:\n",
    "            file.write(CT)\n",
    "\n",
    "        print(\"Cifrado exitoso. El mensaje cifrado ha sido guardado en 'texto_cifrado.dat'\")\n",
    "    except FileNotFoundError:\n",
    "        print(\"Error: No se encontró el archivo 'texto.dat'.\")\n",
    "    except Exception as e:\n",
    "        print(\"Error desconocido:\", str(e))\n"
   ]
  },
  {
   "cell_type": "code",
   "execution_count": 1,
   "id": "cb880f2d",
   "metadata": {},
   "outputs": [],
   "source": [
    "import numpy as np\n",
    "import matplotlib as mpl\n",
    "import matplotlib.pyplot as plt"
   ]
  },
  {
   "cell_type": "code",
   "execution_count": 2,
   "id": "d63599c5",
   "metadata": {},
   "outputs": [],
   "source": [
    "source_id =[]\n",
    "l = []\n",
    "b = []\n",
    "parallax = []\n",
    "g_mean_mag = []\n",
    "e_g_mean_mag= []\n",
    "rp_mean_mag = []\n",
    "e_rp_mean_mag=[]\n",
    "radial_velocity = []\n",
    "radial_velocity_error = []\n",
    "\n",
    "gaia_estrellas_100pc = open(\"Escritorio/Gaia_estrellas_100pc.dat\",\"r\")\n",
    "gaia_estrellas_100pc.readline()\n",
    "for lin in gaia_estrellas_100pc:\n",
    "    source_id.append(float(lin.split()[1]))\n",
    "    l.append(float(lin.split()[1]))\n",
    "    b.append(float(lin.split()[2]))\n",
    "    parallax.append(float(lin.split()[3]))\n",
    "    g_mean_mag.append(float(lin.split()[4]))\n",
    "    e_g_mean_mag.append(float(lin.split()[5]))\n",
    "    rp_mean_mag.append(float(lin.split()[6]))\n",
    "    e_rp_mean_mag.append(float(lin.split()[7]))\n",
    "    radial_velocity.append(float(lin.split()[8]))\n",
    "    radial_velocity_error.append(float(lin.split()[9]))\n",
    "gaia_estrellas_100pc.close()\n",
    "\n",
    "source_id= np.array(source_id)\n",
    "l = np.array(l)\n",
    "b = np.array(b)\n",
    "parallax = np.array(parallax)\n",
    "g_mean_mag=np.array(g_mean_mag)\n",
    "e_g_mean_mag = np.array(e_g_mean_mag)\n",
    "rp_mean_mag = np.array(rp_mean_mag)\n",
    "e_rp_mean_mag = np.array(e_rp_mean_mag)\n",
    "radial_velocity=np.array(radial_velocity)\n",
    "radial_velocity_error=np.array(radial_velocity)\n",
    "\n",
    "l1 = [-val for val in l]"
   ]
  },
  {
   "cell_type": "code",
   "execution_count": null,
   "id": "910784cc",
   "metadata": {},
   "outputs": [],
   "source": [
    "fig=plt.figure(1,figsize=(15,7))\n",
    "fig.subplots_adjust(left=0.14,bottom=0.13,\\\n",
    "                    right=0.95,top=0.97,hspace=0.24,wspace=.20)\n",
    "ax1=fig.add_subplot(111)\n",
    "ax1.set_xlabel(\"Longitud Galactica(Grados)\", fontsize=20)\n",
    "ax1.set_ylabel(\"Latitud Galactica(Grados)\", fontsize=20)\n",
    "ax1.set_title(\"Densidad de estrellas en coordenadas galacticas\", fontsize=20)\n",
    "linea1=plt.axvline(-10,-80,80,ls=\"--\",c=\"white\")\n",
    "linea=plt.axvline(10,-80,80,ls=\"--\",c=\"white\")\n",
    "\n",
    "cc= ax1.hist2d(l1, b, bins=(170,180), cmap=\"gist_earth\",cmin=1,norm=mpl.colors.LogNorm())\n",
    "cc= ax1.hist2d(l,b,bins=(170,180), cmap=\"gist_earth\",cmin=1,norm=mpl.colors.LogNorm())\n",
    "cc= plt.colorbar(cc[3])\n",
    "cc.set_label(\"Log10(N)\", fontsize=20)\n",
    "ax1.set_xlim(-180,180)\n",
    "ax1.set_ylim(-90,90)\n",
    "\n",
    "plt.show()"
   ]
  },
  {
   "cell_type": "code",
   "execution_count": null,
   "id": "af755824",
   "metadata": {},
   "outputs": [],
   "source": [
    "fig =plt.figure(1, figsize=(15,7))\n",
    "ax1= fig.add_subplot(111)\n",
    "ax1.set_xlabel(\"Longitud Galactica\", fontsize= 20)\n",
    "ax1.set_ylabel(\"Lattitud Galactica\", fontsize= 20)\n",
    "ax1.set_xlim(0,180)\n",
    "ax1.set_ylim(80,80)\n",
    "cc= ax1.scatter(b,l,marker=(\".\"), edgecolor = \"none\", s=10, c=g_mean_mag, cmap= \"gist_earth\")\n"
   ]
  },
  {
   "cell_type": "code",
   "execution_count": 11,
   "id": "c5094a91",
   "metadata": {},
   "outputs": [
    {
     "data": {
      "image/png": "[encoded data removed]",
      "text/plain": [
       "<Figure size 720x432 with 1 Axes>"
      ]
     },
     "metadata": {
      "needs_background": "light"
     },
     "output_type": "display_data"
    }
   ],
   "source": [
    "mask = (l >= -10) & (l <= 10)\n",
    "latitudes_galacticas = b[mask]\n",
    "\n",
    "plt.figure(figsize=(10, 6))\n",
    "plt.hist(latitudes_galacticas, bins=30, range=(-90, 90), color='orange', linewidth=1.5, histtype='stepfilled'\\\n",
    "         ,edgecolor='black')\n",
    "\n",
    "plt.title('Histograma de Latitudes Galácticas', fontsize=16)\n",
    "plt.xlabel('Latitud Galáctica (grados)', fontsize=14)\n",
    "plt.ylabel('Frecuencia', fontsize=14)\n",
    "\n",
    "plt.xlim(-40, 40)\n",
    "plt.ylim(0,4000)\n",
    "\n",
    "plt.annotate('El polvo Galactico inpide ver as estrellas aqui', xy=(0, 150), xytext=(-60, 200), fontsize=12,\n",
    "             arrowprops=dict(arrowstyle='->', lw=1.5, color='black'))\n",
    "\n",
    "plt.tight_layout()\n",
    "plt.show()\n"
   ]
  },
  {
   "cell_type": "code",
   "execution_count": null,
   "id": "224a2607",
   "metadata": {},
   "outputs": [],
   "source": []
  }
 ],
 "metadata": {
  "kernelspec": {
   "display_name": "Python 3 (ipykernel)",
   "language": "python",
   "name": "python3"
  },
  "language_info": {
   "codemirror_mode": {
    "name": "ipython",
    "version": 3
   },
   "file_extension": ".py",
   "mimetype": "text/x-python",
   "name": "python",
   "nbconvert_exporter": "python",
   "pygments_lexer": "ipython3",
   "version": "3.8.10"
  }
 },
 "nbformat": 4,
 "nbformat_minor": 5
}
