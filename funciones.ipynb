{
 "cells": [
  {
   "cell_type": "code",
   "execution_count": 97,
   "id": "20a065b2",
   "metadata": {},
   "outputs": [],
   "source": [
    "import pandas as pd\n",
    "import numpy as np\n",
    "import matplotlib.pyplot as plt\n",
    "from matplotlib.ticker import AutoMinorLocator"
   ]
  },
  {
   "cell_type": "code",
   "execution_count": 11,
   "id": "3c57ba35",
   "metadata": {},
   "outputs": [],
   "source": [
    "#Código para calcular la moda.\n",
    "def calcular_moda (Type):\n",
    "    frecuencia = {}\n",
    "    for valores in Type:\n",
    "        if valores in frecuencia:\n",
    "            frecuencia[valores] += 1\n",
    "        else:\n",
    "            frecuencia[valores] = 1\n",
    "            \n",
    "    moda = []\n",
    "    max_frecuencia = max(frecuencia.values())\n",
    "    for valor, freq in frecuencia.items():\n",
    "        if freq == max_frecuencia:\n",
    "            moda.append(valores)\n",
    "            \n",
    "    return moda\n",
    "\n",
    "\n",
    "\n",
    "\n",
    "\n"
   ]
  },
  {
   "cell_type": "code",
   "execution_count": 3,
   "id": "ec1674db",
   "metadata": {},
   "outputs": [],
   "source": [
    "def moda(data):\n",
    "    categorias = []\n",
    "    for value in data:\n",
    "        if data not in categorias: \n",
    "            categorias.append(data)\n",
    "    #obtener el numero de cuentas en la muestra para cada una de las categorias\n",
    "    cuentas = []\n",
    "    for c in categorias:\n",
    "        n = 0\n",
    "        for val in data:\n",
    "            if val == c:\n",
    "                n = n+1\n",
    "        cuentas.append(n)\n",
    "    #encontrar la posicion del valor de la lista con\n",
    "    #el maximo de cuentas guess and check\n",
    "    i_max = 0\n",
    "    val_max = cuentas[0]\n",
    "    for i in range(1,len(cuentas)):\n",
    "        if cuentas[i] > val_max:\n",
    "            i_max = i\n",
    "            val_max = cuentas[i]\n",
    "    #ahora i_max contiene el indice del maximo\n",
    "    #de cuentas. la moda es la categoria correspondiente\n",
    "    moda = categorias[i_max]\n",
    "    \n",
    "    return moda\n",
    "    "
   ]
  },
  {
   "cell_type": "markdown",
   "id": "ea5e40ed",
   "metadata": {},
   "source": [
    "\n"
   ]
  },
  {
   "cell_type": "code",
   "execution_count": 6,
   "id": "16781ec1",
   "metadata": {},
   "outputs": [],
   "source": [
    "def rango_intercuartilico(data):\n",
    "    \"\"\"\n",
    "    Calcula el percentil 25 y 75 de una lista de valores.\n",
    "\n",
    "    Parámetros\n",
    "    ----------\n",
    "    vals: lista de números\n",
    "    » Lista de números de la cual se calculará el IQR.\n",
    "\n",
    "    Retorna\n",
    "    ---------\n",
    "    iqr: float\n",
    "    » El Rango Intercuartil (IQR) de los valores en la lista.\n",
    "\n",
    "    Variables\n",
    "    ----------\n",
    "    datos_ordenados: lista de números\n",
    "    » Una lista de valores ordenados en orden ascendente.\n",
    "    longitud: int\n",
    "    » La cantidad de elementos en la lista 'datos_ordenados'.\n",
    "    Q1: int\n",
    "    » El primer cuartil.\n",
    "    Q3: int\n",
    "    » El tercer cuartil.\n",
    "    iqr: float\n",
    "    » El Rango Intercuartil calculado al restarle el primer cuartil al tercer cuartil.\n",
    "    \"\"\"\n",
    "    # Paso 1: Ordenar los datos\n",
    "    datos_ordenados = sorted(data)\n",
    "    # Paso 2: Calcular Q1 (primer cuartil)\n",
    "    n = len(datos_ordenados)\n",
    "    q1_index = n // 4\n",
    "    q1 = (datos_ordenados[q1_index] + datos_ordenados[q1_index - 1]) / 2\n",
    "    # Paso 3: Calcular Q3 (tercer cuartil)\n",
    "    q3_index = 3 * n // 4\n",
    "    q3 = (datos_ordenados[q3_index] + datos_ordenados[q3_index - 1]) / 2\n",
    "    # Paso 4: Calcular el rango intercuartílico (RI)\n",
    "    ri = q3 - q1\n",
    "    #paso 5: Calcular la regla de Freeman y Dionis\n",
    "    FyD = 2*(ri*(n**(-1/3)))\n",
    "    print(\"Primer Cuartil (Q1):\", q1)\n",
    "    print(\"Tercer Cuartil (Q3):\", q3)\n",
    "    print(\"Rango Intercuartílico (RI):\", ri)\n",
    "    print(f\"Regla de Freeman y Dionis:{FyD}\")"
   ]
  },
  {
   "cell_type": "code",
   "execution_count": 2,
   "id": "6e6693e0",
   "metadata": {},
   "outputs": [],
   "source": [
    "def rango(data):\n",
    "    rango = max(data)-min(data)\n",
    "    print(f\"el rango es:{rango}\")"
   ]
  },
  {
   "cell_type": "code",
   "execution_count": null,
   "id": "c101e411",
   "metadata": {},
   "outputs": [],
   "source": []
  },
  {
   "cell_type": "code",
   "execution_count": 6,
   "id": "998cdb2e",
   "metadata": {},
   "outputs": [],
   "source": []
  },
  {
   "cell_type": "code",
   "execution_count": 10,
   "id": "c3e8e76f",
   "metadata": {},
   "outputs": [],
   "source": [
    "def repeticion(Size):\n",
    "    \"\"\"\n",
    "    Calcula y devuelve los valores de una lista que se repiten 10 o más veces.\n",
    "\n",
    "    Parámetros\n",
    "    ----------\n",
    "    Size: lista\n",
    "    » Lista con números.\n",
    "\n",
    "    Retorna\n",
    "    ---------\n",
    "    lista_tamaño: lista\n",
    "    » Lista que contiene los valores de Size que se repiten 10 o más veces.\n",
    "    \n",
    "    Explicación\n",
    "    ---------\n",
    "    El formato de ejecución del código es similar a buscar una moda, haciendo un ciclo for inicial\n",
    "    para ir acumulando los valores en una lista vacia. Luego, se crea otra lista donde se ven las cuentas\n",
    "    y se hace otro ciclo for donde se lee la lista con datos que creamos inicialmente.\n",
    "    El contador se establece inicialmente como cero y se crea otro ciclo for donde\n",
    "    se comprueba que los numeros de la lista inicial (Size) si estaban en la cuenta se agrega a esta\n",
    "    cuenta. El ultimo ciclo for permite que solo sean relevantes los valores que se repiten\n",
    "    diez o más veces.\n",
    "    \"\"\"\n",
    "    lista_tamaño = []\n",
    "    for i in Size:\n",
    "        if i not in lista_tamaño:\n",
    "            lista_tamaño.append(i)\n",
    "    cuentas_t = []\n",
    "    for c in lista_tamaño:\n",
    "        n = 0\n",
    "        for nums in Size:\n",
    "            if nums == c:\n",
    "                n = n + 1\n",
    "        if n >= 10:\n",
    "            cuentas_t.append(n)\n",
    "    return lista_tamaño"
   ]
  },
  {
   "cell_type": "code",
   "execution_count": 7,
   "id": "3dc00e03",
   "metadata": {},
   "outputs": [],
   "source": [
    "def calcular_mediana(tamaños):\n",
    "    tamaños.sort() # Ordenamos los tamaños de menor a mayor.\n",
    "    n = len(tamaños)\n",
    "    if n % 2 == 0:\n",
    "        mediana = (tamaños[n // 2 - 1] + tamaños[n // 2]) / 2 # Si hay un número par de elementos, calculamos la mediana como el promedio de los dos valores centrales.\n",
    "    else:\n",
    "        mediana = tamaños[n // 2] # Si hay un número impar de elementos, la mediana es el valor central.\n",
    "    return mediana"
   ]
  },
  {
   "cell_type": "code",
   "execution_count": 3,
   "id": "eabbc733",
   "metadata": {},
   "outputs": [],
   "source": [
    "def agrupar(lista_tamaños):\n",
    "    \"\"\"\n",
    "    Permite agrupar por tipos de galaxia los tamaños que obtuvimos previamente.\n",
    "    \n",
    "    Parámetros\n",
    "    ----------\n",
    "    lista_tamaños : list\n",
    "    » Lista de tamaños de galaxias representados como números enteros.\n",
    "\n",
    "    Retorna\n",
    "    ---------\n",
    "    Resultado\n",
    "    » Un diccionario que contiene los promedios de tamaños para diferentes tipos de galaxias.\n",
    "\n",
    "    Explicación\n",
    "    ---------\n",
    "    Esta función toma una lista de tamaños de galaxias y los agrupa en categorías (SBa, SBb, SBc, Irr)\n",
    "    basadas en intervalos encontrados en internet y el archivo proveido. \n",
    "    Comienza con el diccionario vacio llamado resultado donde se iran acumulando los tamaños\n",
    "    agrupados. Luego, cada tamaño en la lista se verifica con el ciclo for tipo, (inicio, fin)\n",
    "    donde este lee el diccionario intervalos proveido y verifica donde entra cada dato que lee.\n",
    "    La función retorna el diccionario nuevo y tambien calcula el promedio de tamaños en \n",
    "    cada categoría.\n",
    "    \"\"\"\n",
    "    intervalos = {\n",
    "        \"SBa\": (16, 32),\n",
    "        \"SBb\": (32, 64),\n",
    "        \"SBc\": (64, 128),\n",
    "        \"Irr\": (128, float(\"inf\")) #Tuve que investigar para este tipo de galaxias irregulares.\n",
    "    }\n",
    "\n",
    "    resultado = {tipo: [] for tipo in intervalos}\n",
    "\n",
    "    for tamaño in lista_tamaños:\n",
    "        try:\n",
    "            tamaño_int = int(tamaño)\n",
    "        except ValueError:\n",
    "            # Si no se puede convertir a entero, ignora ese dato. (espero)\n",
    "            continue\n",
    "\n",
    "        for tipo, (inicio, fin) in intervalos.items(): #Leemos de inicio a fin el diccionario\n",
    "            if inicio <= tamaño_int < fin: #Comprobamos si el dato que se lee cabe en los intervalos prefijos.\n",
    "                resultado[tipo].append(tamaño_int) #Se agrega el resultado a la lista vacia tipo.\n",
    "                break #Salimos del bucle.\n",
    "    #Calculamos promedio y mediana.\n",
    "    promedios = {} #Diccionario vacio para acumular los promedios de cada etiqueta.\n",
    "    medianas = {} #Diccionario vacío para acumular las medianas de cada etiqueta\n",
    "    for tipo, tamaños in resultado.items():#.items sirve para leer lo que esta al interior de cada etiqueta en los diccionarios.\n",
    "        promedio = sum(tamaños) / len(tamaños) #Calculo del promedio.\n",
    "        promedios[tipo] = promedio #Indexamos los promedios.\n",
    "        \n",
    "        tamaños.sort() #Ordenamos de menor a mayor los tamaños.\n",
    "        longitud = len(tamaños) #Longitud de cada etiqueta.\n",
    "        if longitud % 2 == 0: #Se verifica si la longitud es par para calcular el promedio de los dos datos a la mitad.\n",
    "            mediana = (tamaños[longitud // 2 - 1] + tamaños[longitud // 2]) / 2\n",
    "        else: #Si no es par, simplemente se toma el dato que divide en dos la longitud.\n",
    "            mediana = tamaños[longitud // 2]\n",
    "        medianas[tipo] = mediana\n",
    "\n",
    "    print(\"Los promedios respectivos a cada categoría: \", promedios, \"\\n\")\n",
    "    print(\"Las medianas respectivas a cada categoría: \", medianas, \"\\n\")\n",
    "    return resultado"
   ]
  },
  {
   "cell_type": "code",
   "execution_count": 9,
   "id": "bcf4ff87",
   "metadata": {},
   "outputs": [],
   "source": [
    "def promedio(data):\n",
    "    \n",
    "    # Filtrar elementos que son números (int o float)\n",
    "    numeros = [x for x in data if isinstance(x, (int, float))]\n",
    "    \n",
    "    if len(numeros) == 0:\n",
    "        return None  # Evita la división por cero si no hay números en la lista\n",
    "\n",
    "    suma = sum(numeros)\n",
    "    promedio = suma / len(numeros)\n",
    "    return promedio"
   ]
  },
  {
   "cell_type": "code",
   "execution_count": 5,
   "id": "26abeca9",
   "metadata": {},
   "outputs": [],
   "source": [
    "def calcular_estadisticas(datos):\n",
    "    datos_sin_nan = [x for x in datos if math.isfinite(x)]\n",
    "    if datos_sin_nan:\n",
    "        promedio = sum(datos_sin_nan) / len(datos_sin_nan)\n",
    "        mediana = sorted(datos_sin_nan)[len(datos_sin_nan) // 2]\n",
    "        percentil_25 = sorted(datos_sin_nan)[int(len(datos_sin_nan) * 0.25)]\n",
    "        percentil_75 = sorted(datos_sin_nan)[int(len(datos_sin_nan) * 0.75)]\n",
    "        return promedio, mediana, percentil_25, percentil_75\n",
    "    else:\n",
    "        return None, None, None, None\n"
   ]
  },
  {
   "cell_type": "code",
   "execution_count": null,
   "id": "a4661492",
   "metadata": {},
   "outputs": [],
   "source": [
    "def promedio (vals):\n",
    "    \"\"\"\n",
    "    Calcula el promedio de una lista de numeros.\n",
    "\n",
    "    Parámetros\n",
    "    ----------\n",
    "    vals: lista\n",
    "    » Lista con números.\n",
    "\n",
    "    Retorna\n",
    "    ---------\n",
    "    promedio: float\n",
    "    » El promedio aritmetico de los números.\n",
    "    \"\"\"\n",
    "    return sum(vals) / len(vals)\n",
    "    "
   ]
  },
  {
   "cell_type": "code",
   "execution_count": 4,
   "id": "63928e0e",
   "metadata": {},
   "outputs": [
    {
     "ename": "SyntaxError",
     "evalue": "invalid syntax (46843142.py, line 1)",
     "output_type": "error",
     "traceback": [
      "\u001b[0;36m  Input \u001b[0;32mIn [4]\u001b[0;36m\u001b[0m\n\u001b[0;31m    def desviacion estandar(datos):\u001b[0m\n\u001b[0m                   ^\u001b[0m\n\u001b[0;31mSyntaxError\u001b[0m\u001b[0;31m:\u001b[0m invalid syntax\n"
     ]
    }
   ],
   "source": [
    "def desviacion_estandar(datos):"
   ]
  },
  {
   "cell_type": "code",
   "execution_count": 117,
   "id": "d9bf5de7",
   "metadata": {},
   "outputs": [],
   "source": [
    "def promedio(data):\n",
    "    promedio = sum(data) / len(data)\n",
    "    return promedio"
   ]
  },
  {
   "cell_type": "code",
   "execution_count": 118,
   "id": "55db72af",
   "metadata": {},
   "outputs": [
    {
     "ename": "TypeError",
     "evalue": "'float' object is not iterable",
     "output_type": "error",
     "traceback": [
      "\u001b[0;31m---------------------------------------------------------------------------\u001b[0m",
      "\u001b[0;31mTypeError\u001b[0m                                 Traceback (most recent call last)",
      "Input \u001b[0;32mIn [118]\u001b[0m, in \u001b[0;36m<cell line: 1>\u001b[0;34m()\u001b[0m\n\u001b[0;32m----> 1\u001b[0m \u001b[43mpromedio\u001b[49m\u001b[43m(\u001b[49m\u001b[43mradial_velocity\u001b[49m\u001b[43m)\u001b[49m\n",
      "Input \u001b[0;32mIn [117]\u001b[0m, in \u001b[0;36mpromedio\u001b[0;34m(data)\u001b[0m\n\u001b[1;32m      1\u001b[0m \u001b[38;5;28;01mdef\u001b[39;00m \u001b[38;5;21mpromedio\u001b[39m(data):\n\u001b[0;32m----> 2\u001b[0m     promedio \u001b[38;5;241m=\u001b[39m \u001b[38;5;28;43msum\u001b[39;49m\u001b[43m(\u001b[49m\u001b[43mdata\u001b[49m\u001b[43m)\u001b[49m \u001b[38;5;241m/\u001b[39m \u001b[38;5;28mlen\u001b[39m(data)\n\u001b[1;32m      3\u001b[0m     \u001b[38;5;28;01mreturn\u001b[39;00m promedio\n",
      "\u001b[0;31mTypeError\u001b[0m: 'float' object is not iterable"
     ]
    }
   ],
   "source": [
    "promedio(radial_velocity)"
   ]
  },
  {
   "cell_type": "code",
   "execution_count": null,
   "id": "3ef94dec",
   "metadata": {},
   "outputs": [],
   "source": [
    "def desviacion_mediana_absoluta(datos):"
   ]
  },
  {
   "cell_type": "code",
   "execution_count": null,
   "id": "20789beb",
   "metadata": {},
   "outputs": [],
   "source": [
    "#para llamar las funciones a otras  se usa el comando from moda import promedio\n",
    "#print(promedio([datos]))\n",
    "# esto para abrirlo desde la terminal\n",
    "#python3 \"el nombre de el archivo\""
   ]
  },
  {
   "cell_type": "code",
   "execution_count": null,
   "id": "22a8d55e",
   "metadata": {},
   "outputs": [],
   "source": []
  }
 ],
 "metadata": {
  "kernelspec": {
   "display_name": "Python 3 (ipykernel)",
   "language": "python",
   "name": "python3"
  },
  "language_info": {
   "codemirror_mode": {
    "name": "ipython",
    "version": 3
   },
   "file_extension": ".py",
   "mimetype": "text/x-python",
   "name": "python",
   "nbconvert_exporter": "python",
   "pygments_lexer": "ipython3",
   "version": "3.8.10"
  }
 },
 "nbformat": 4,
 "nbformat_minor": 5
}
